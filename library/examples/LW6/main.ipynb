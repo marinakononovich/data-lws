{
 "cells": [
  {
   "cell_type": "code",
   "execution_count": null,
   "metadata": {
    "collapsed": false
   },
   "outputs": [
    {
     "name": "stdout",
     "output_type": "stream",
     "text": [
      "\nPerplexity  792.412475586\n"
     ]
    }
   ],
   "source": [
    "# coding=utf-8\n",
    "import artm\n",
    "from multiprocessing import cpu_count\n",
    "from os import getcwd\n",
    "\n",
    "topics = 10\n",
    "d_path = getcwd() + \"C:\\\\Users\\\\miga\\\\Desktop\\\\data-lws\\\\library\\\\data\\\\lenta.txt\"\n",
    "batch_vectorizer = artm.BatchVectorizer(data_path=d_path, data_format=\"vowpal_wabbit\", target_folder=\"batch_vectorizer_target_folder\", batch_size=10)\n",
    "topic_names = [\"topic#1\" + str(i) for i in range(topics - 1)] + [\"bcg\"]\n",
    "dictionary = artm.Dictionary(\"dictionary\")\n",
    "dictionary.gather(batch_vectorizer.data_path)\n",
    "model_lda = artm.LDA(num_topics=topics, num_processors=cpu_count(), cache_theta=True, num_document_passes=1)\n",
    "model_lda.initialize(dictionary=dictionary)\n",
    "model_lda.fit_offline(batch_vectorizer=batch_vectorizer, num_collection_passes=50)\n",
    "print \"\\nPerplexity \", model_lda.perplexity_last_value"
   ]
  },
  {
   "cell_type": "code",
   "execution_count": 42,
   "metadata": {},
   "outputs": [
    {
     "name": "stdout",
     "output_type": "stream",
     "text": [
      "\nPerplexity  336.208709717\n"
     ]
    }
   ],
   "source": [
    "dictionary = artm.Dictionary(\"dictionary\")\n",
    "dictionary.gather(batch_vectorizer.data_path)\n",
    "model_lda = artm.LDA(num_topics=topics, num_processors=cpu_count(), cache_theta=True, num_document_passes=1, alpha=0.5,\n",
    "                     beta=-0.5)\n",
    "model_lda.initialize(dictionary=dictionary)\n",
    "model_lda.fit_offline(batch_vectorizer=batch_vectorizer, num_collection_passes=50)\n",
    "print \"\\nPerplexity \", model_lda.perplexity_last_value\n"
   ]
  },
  {
   "cell_type": "code",
   "execution_count": 44,
   "metadata": {},
   "outputs": [
    {
     "name": "stdout",
     "output_type": "stream",
     "text": [
      "\nPerplexity  116.821495056\n"
     ]
    }
   ],
   "source": [
    "dictionary = artm.Dictionary(\"dictionary\")\n",
    "dictionary.gather(batch_vectorizer.data_path)\n",
    "model_lda = artm.LDA(num_topics=topics, num_processors=cpu_count(), cache_theta=True, num_document_passes=1, alpha=-0.5,\n",
    "                     beta=-0.5)\n",
    "model_lda.initialize(dictionary=dictionary)\n",
    "model_lda.fit_offline(batch_vectorizer=batch_vectorizer, num_collection_passes=50)\n",
    "print \"\\nPerplexity \", model_lda.perplexity_last_value\n"
   ]
  },
  {
   "cell_type": "code",
   "execution_count": 46,
   "metadata": {},
   "outputs": [
    {
     "name": "stdout",
     "output_type": "stream",
     "text": [
      "\nPerplexity  116.821495056\n"
     ]
    }
   ],
   "source": [
    "dictionary = artm.Dictionary(\"dictionary\")\n",
    "dictionary.gather(batch_vectorizer.data_path)\n",
    "model_lda = artm.LDA(num_topics=topics, num_processors=cpu_count(), cache_theta=True, num_document_passes=1, alpha=0.5,\n",
    "                     beta=-2)\n",
    "model_lda.initialize(dictionary=dictionary)\n",
    "model_lda.fit_offline(batch_vectorizer=batch_vectorizer, num_collection_passes=50)\n",
    "print \"\\nPerplexity \", model_lda.perplexity_last_value\n"
   ]
  },
  {
   "cell_type": "code",
   "execution_count": 48,
   "metadata": {},
   "outputs": [
    {
     "name": "stdout",
     "output_type": "stream",
     "text": [
      "\nPerplexity  1670.98278809\n"
     ]
    }
   ],
   "source": [
    "dictionary = artm.Dictionary(\"dictionary\")\n",
    "dictionary.gather(batch_vectorizer.data_path)\n",
    "model_lda = artm.LDA(num_topics=topics, num_processors=cpu_count(), cache_theta=True, num_document_passes=1, alpha=2.5,\n",
    "                     beta=0.5)\n",
    "model_lda.initialize(dictionary=dictionary)\n",
    "model_lda.fit_offline(batch_vectorizer=batch_vectorizer, num_collection_passes=50)\n",
    "print \"\\nPerplexity \", model_lda.perplexity_last_value"
   ]
  },
  {
   "cell_type": "code",
   "execution_count": 50,
   "metadata": {},
   "outputs": [
    {
     "name": "stdout",
     "output_type": "stream",
     "text": [
      "\nPerplexity  239.111831665\n"
     ]
    }
   ],
   "source": [
    "dictionary = artm.Dictionary(\"dictionary\")\n",
    "dictionary.gather(batch_vectorizer.data_path)\n",
    "model_lda = artm.LDA(num_topics=topics, num_processors=cpu_count(), cache_theta=True, num_document_passes=1, alpha=-2.5,\n",
    "                     beta=-0.5)\n",
    "model_lda.initialize(dictionary=dictionary)\n",
    "model_lda.fit_offline(batch_vectorizer=batch_vectorizer, num_collection_passes=50)\n",
    "print \"\\nPerplexity \", model_lda.perplexity_last_value"
   ]
  },
  {
   "cell_type": "code",
   "execution_count": 52,
   "metadata": {},
   "outputs": [
    {
     "name": "stdout",
     "output_type": "stream",
     "text": [
      "\nPerplexity  664.595458984\n"
     ]
    }
   ],
   "source": [
    "dictionary = artm.Dictionary(\"dictionary\")\n",
    "dictionary.gather(batch_vectorizer.data_path)\n",
    "model_lda = artm.LDA(num_topics=topics, num_processors=cpu_count(), cache_theta=True, num_document_passes=1, alpha=0.001,\n",
    "                     beta=0.001)\n",
    "model_lda.initialize(dictionary=dictionary)\n",
    "model_lda.fit_offline(batch_vectorizer=batch_vectorizer, num_collection_passes=50)\n",
    "print \"\\nPerplexity \", model_lda.perplexity_last_value"
   ]
  },
  {
   "cell_type": "code",
   "execution_count": 54,
   "metadata": {},
   "outputs": [
    {
     "name": "stdout",
     "output_type": "stream",
     "text": [
      "\nPerplexity  119.628303528\n"
     ]
    }
   ],
   "source": [
    "dictionary = artm.Dictionary(\"dictionary\")\n",
    "dictionary.gather(batch_vectorizer.data_path)\n",
    "model_lda = artm.LDA(num_topics=topics, num_processors=cpu_count(), cache_theta=True, num_document_passes=1, alpha=-5,\n",
    "                     beta=-5)\n",
    "model_lda.initialize(dictionary=dictionary)\n",
    "model_lda.fit_offline(batch_vectorizer=batch_vectorizer, num_collection_passes=50)\n",
    "print \"\\nPerplexity \", model_lda.perplexity_last_value"
   ]
  },
  {
   "cell_type": "code",
   "execution_count": 56,
   "metadata": {},
   "outputs": [
    {
     "name": "stdout",
     "output_type": "stream",
     "text": [
      "\nPerplexity  118.149421692\n"
     ]
    }
   ],
   "source": [
    "dictionary = artm.Dictionary(\"dictionary\")\n",
    "dictionary.gather(batch_vectorizer.data_path)\n",
    "model_lda = artm.LDA(num_topics=topics, num_processors=cpu_count(), cache_theta=True, num_document_passes=3, alpha=0.5,\n",
    "                     beta=-2)\n",
    "model_lda.initialize(dictionary=dictionary)\n",
    "model_lda.fit_offline(batch_vectorizer=batch_vectorizer, num_collection_passes=50)\n",
    "print \"\\nPerplexity \", model_lda.perplexity_last_value"
   ]
  },
  {
   "cell_type": "code",
   "execution_count": 58,
   "metadata": {},
   "outputs": [
    {
     "name": "stdout",
     "output_type": "stream",
     "text": [
      "\nPerplexity  119.831489563\n"
     ]
    }
   ],
   "source": [
    "dictionary = artm.Dictionary(\"dictionary\")\n",
    "dictionary.gather(batch_vectorizer.data_path)\n",
    "model_lda = artm.LDA(num_topics=topics, num_processors=cpu_count(), cache_theta=True, num_document_passes=5, alpha=0.5,\n",
    "                     beta=-2)\n",
    "model_lda.initialize(dictionary=dictionary)\n",
    "model_lda.fit_offline(batch_vectorizer=batch_vectorizer, num_collection_passes=50)\n",
    "print \"\\nPerplexity \", model_lda.perplexity_last_value"
   ]
  },
  {
   "cell_type": "code",
   "execution_count": 60,
   "metadata": {},
   "outputs": [
    {
     "name": "stdout",
     "output_type": "stream",
     "text": [
      "\nPerplexity  124.524833679\n"
     ]
    }
   ],
   "source": [
    "dictionary = artm.Dictionary(\"dictionary\")\n",
    "dictionary.gather(batch_vectorizer.data_path)\n",
    "model_lda = artm.LDA(num_topics=topics, num_processors=cpu_count(), cache_theta=True, num_document_passes=10, alpha=0.5,\n",
    "                     beta=-2)\n",
    "model_lda.initialize(dictionary=dictionary)\n",
    "model_lda.fit_offline(batch_vectorizer=batch_vectorizer, num_collection_passes=50)\n",
    "print \"\\nPerplexity \", model_lda.perplexity_last_value"
   ]
  },
  {
   "cell_type": "code",
   "execution_count": 62,
   "metadata": {},
   "outputs": [
    {
     "name": "stdout",
     "output_type": "stream",
     "text": [
      "\nPerplexity  151.318130493\n"
     ]
    }
   ],
   "source": [
    "dictionary = artm.Dictionary(\"dictionary\")\n",
    "dictionary.gather(batch_vectorizer.data_path)\n",
    "model_lda = artm.LDA(num_topics=topics, num_processors=cpu_count(), cache_theta=True, num_document_passes=10, alpha=0.5,\n",
    "                     beta=-1.5)\n",
    "model_lda.initialize(dictionary=dictionary)\n",
    "model_lda.fit_offline(batch_vectorizer=batch_vectorizer, num_collection_passes=50)\n",
    "print \"\\nPerplexity \", model_lda.perplexity_last_value"
   ]
  }
 ],
 "metadata": {
  "kernelspec": {
   "display_name": "Python 2",
   "language": "python",
   "name": "python2"
  },
  "language_info": {
   "codemirror_mode": {
    "name": "ipython",
    "version": 2
   },
   "file_extension": ".py",
   "mimetype": "text/x-python",
   "name": "python",
   "nbconvert_exporter": "python",
   "pygments_lexer": "ipython2",
   "version": "2.7.6"
  }
 },
 "nbformat": 4,
 "nbformat_minor": 0
}
